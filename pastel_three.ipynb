{
 "cells": [
  {
   "cell_type": "markdown",
   "id": "15feef7e",
   "metadata": {},
   "source": [
    "# Fraud Detection on the Pastel Dataset"
   ]
  },
  {
   "cell_type": "markdown",
   "id": "80568d1e",
   "metadata": {},
   "source": [
    "This is a financial dataset from __Pastel__, and the goal of the hackathon is to detect fraudulent transactions. However, the number of fraudulent transactions is very little compared to the normal transactions; percentage of the normal being __99.79%__, while that of the fraudulent, __0.21%__. It is a skewed dataset.\n",
    "\n",
    "So, we are battling with an imbalanced dataset. And there are several methods of resolving this:\n",
    "- Resampling the dataset: Random Undersampling, Oversampling (SMOTE)\n",
    "- Collecting more data\n",
    "- Changing the Performance Metric\n",
    "\n",
    "And we made use of these methods: we undersampled the dataset, collected the number of normal transactions which is equal to the small number of fraudulent transactions; and because this dataset is small we collected the fraudulent transaction dataset of the credit card dataset, with an equal number of normal transaction dataset. Also, instead of using the Accuracy metric, which will incorrectly measure the performance of our model, we changed that to the metric of __Area Under the Receiver Operating Characteristic Curve, ROC_AUC__."
   ]
  },
  {
   "cell_type": "code",
   "execution_count": 14,
   "id": "7eed9102",
   "metadata": {},
   "outputs": [],
   "source": [
    "import pandas as pd\n",
    "import numpy as np\n",
    "import glob\n",
    "from matplotlib import pyplot as plt\n",
    "from sklearn.preprocessing import StandardScaler, RobustScaler"
   ]
  },
  {
   "cell_type": "code",
   "execution_count": 16,
   "id": "90656f35",
   "metadata": {},
   "outputs": [],
   "source": [
    "train = pd.read_csv(\"train.csv\")\n",
    "test = pd.read_csv(\"test.csv\")\n",
    "credit_card = pd.read_csv(\"creditcard.csv\")\n",
    "sample_sub = pd.read_csv(\"sample_submission.csv\")"
   ]
  },
  {
   "cell_type": "code",
   "execution_count": 18,
   "id": "5728cd51",
   "metadata": {},
   "outputs": [
    {
     "data": {
      "text/plain": [
       "Index(['id', 'Time', 'V1', 'V2', 'V3', 'V4', 'V5', 'V6', 'V7', 'V8', 'V9',\n",
       "       'V10', 'V11', 'V12', 'V13', 'V14', 'V15', 'V16', 'V17', 'V18', 'V19',\n",
       "       'V20', 'V21', 'V22', 'V23', 'V24', 'V25', 'V26', 'V27', 'V28', 'Amount',\n",
       "       'Class'],\n",
       "      dtype='object')"
      ]
     },
     "execution_count": 18,
     "metadata": {},
     "output_type": "execute_result"
    }
   ],
   "source": [
    "train.columns"
   ]
  },
  {
   "cell_type": "code",
   "execution_count": 70,
   "id": "16d82a5e",
   "metadata": {},
   "outputs": [
    {
     "data": {
      "text/plain": [
       "Text(0, 0.5, 'Frequency')"
      ]
     },
     "execution_count": 70,
     "metadata": {},
     "output_type": "execute_result"
    },
    {
     "data": {
      "image/png": "[encoded data removed]",
      "text/plain": [
       "<Figure size 640x480 with 1 Axes>"
      ]
     },
     "metadata": {},
     "output_type": "display_data"
    }
   ],
   "source": [
    "count_classes = pd.value_counts(train['Class'], sort=True).sort_index()\n",
    "count_classes.plot(kind = 'bar')\n",
    "plt.title(\"Fraud Class Histogram\")\n",
    "plt.xlabel(\"Class\")\n",
    "plt.ylabel(\"Frequency\")"
   ]
  },
  {
   "cell_type": "markdown",
   "id": "44d95c30",
   "metadata": {},
   "source": [
    "The dataset is highly imbalanced. Therefore, we will not use this dataset as the base of our predictive model, as it will assume that most transactions are not fraud. We want our model to detect patterns that give signs of fraudulent transactions. "
   ]
  },
  {
   "cell_type": "code",
   "execution_count": 75,
   "id": "ba6aa53d",
   "metadata": {},
   "outputs": [
    {
     "name": "stdout",
     "output_type": "stream",
     "text": [
      "Percentage of normal transaction: 99.79\n",
      "Percentage of fraudulent transaction: 0.21\n"
     ]
    }
   ],
   "source": [
    "norm_trxn, fraud_trxn = np.unique(train['Class'], return_counts=True)[1]\n",
    "print(f'Percentage of normal transaction: {round((norm_trxn/len(train))*100, 2)}')\n",
    "print(f'Percentage of fraudulent transaction: {round((fraud_trxn/len(train))*100, 2)}')"
   ]
  },
  {
   "cell_type": "markdown",
   "id": "42e097d2",
   "metadata": {},
   "source": [
    "## Scaling and Sub Sampling of the Dataset"
   ]
  },
  {
   "cell_type": "markdown",
   "id": "9c73ee5e",
   "metadata": {},
   "source": [
    "We will first scale the columns, __Amount__ and __Time__; we normalize them to be on the same scale as other columns.\n",
    "Also, we will create a sub sample of the datasets to have an equal amount of Fraudulent and Normal cases. This will help the model understand the patterns relating to whether a transaction is fruadulent or not. We will also, augument the sub-sampled dataset with the sample from the credit card dataset.\n",
    "\n",
    "A __Sub-Sample__ will be a dataframe with a 50/50 ratio of fraudulent and non-fraudulent transactions; using sub-sampled dataset will prevent:\n",
    "- __Overfitting:__ Where our model will assume that there are no fraud, and incorrectly classify our dataset\n",
    "- __Wrong Correlations:__ Where we can have a clear correlation of the features of the datasets and how they influence the prediction of fraud.\n",
    "\n",
    "\n",
    "### Summary\n",
    "-  __scaled amount__ and __scaled time__ are the scaled columns in the dataset.\n",
    "- There are __469__ and __492__ fraudulent cases in both __Pastel__ and __Credit Card__ datasets respectively. So we get corresponding __(469 + 492)__ cases of normal cases in both datasets.\n",
    "- We concatenate the two datasets to get a new sub-sample of __1922__ cases."
   ]
  },
  {
   "cell_type": "code",
   "execution_count": 19,
   "id": "e8151af8",
   "metadata": {},
   "outputs": [],
   "source": [
    "rob_scaler = RobustScaler()\n",
    "\n",
    "t_id = train['id']\n",
    "train['scaled_amount'] = rob_scaler.fit_transform(train['Amount'].values.reshape(-1,1))\n",
    "train['scaled_time'] = rob_scaler.fit_transform(train['Time'].values.reshape(-1,1))\n",
    "\n",
    "train.drop(['Time', 'Amount', 'id'], axis=1, inplace=True)\n",
    "\n",
    "scaled_amount = train['scaled_amount']\n",
    "scaled_time = train['scaled_time']\n",
    "\n",
    "train.drop(['scaled_amount', 'scaled_time'], axis=1, inplace=True)\n",
    "train.insert(0, 'scaled_amount', scaled_amount)\n",
    "train.insert(1, 'scaled_time', scaled_time)"
   ]
  },
  {
   "cell_type": "code",
   "execution_count": 20,
   "id": "36d99f67",
   "metadata": {},
   "outputs": [
    {
     "data": {
      "text/html": [
       "<div>\n",
       "<style scoped>\n",
       "    .dataframe tbody tr th:only-of-type {\n",
       "        vertical-align: middle;\n",
       "    }\n",
       "\n",
       "    .dataframe tbody tr th {\n",
       "        vertical-align: top;\n",
       "    }\n",
       "\n",
       "    .dataframe thead th {\n",
       "        text-align: right;\n",
       "    }\n",
       "</style>\n",
       "<table border=\"1\" class=\"dataframe\">\n",
       "  <thead>\n",
       "    <tr style=\"text-align: right;\">\n",
       "      <th></th>\n",
       "      <th>scaled_amount</th>\n",
       "      <th>scaled_time</th>\n",
       "      <th>V1</th>\n",
       "      <th>V2</th>\n",
       "      <th>V3</th>\n",
       "      <th>V4</th>\n",
       "      <th>V5</th>\n",
       "      <th>V6</th>\n",
       "      <th>V7</th>\n",
       "      <th>V8</th>\n",
       "      <th>...</th>\n",
       "      <th>V20</th>\n",
       "      <th>V21</th>\n",
       "      <th>V22</th>\n",
       "      <th>V23</th>\n",
       "      <th>V24</th>\n",
       "      <th>V25</th>\n",
       "      <th>V26</th>\n",
       "      <th>V27</th>\n",
       "      <th>V28</th>\n",
       "      <th>Class</th>\n",
       "    </tr>\n",
       "  </thead>\n",
       "  <tbody>\n",
       "    <tr>\n",
       "      <th>0</th>\n",
       "      <td>-0.316492</td>\n",
       "      <td>-2.135774</td>\n",
       "      <td>2.074329</td>\n",
       "      <td>-0.129425</td>\n",
       "      <td>-1.137418</td>\n",
       "      <td>0.412846</td>\n",
       "      <td>-0.192638</td>\n",
       "      <td>-1.210144</td>\n",
       "      <td>0.110697</td>\n",
       "      <td>-0.263477</td>\n",
       "      <td>...</td>\n",
       "      <td>-0.292969</td>\n",
       "      <td>-0.334701</td>\n",
       "      <td>-0.887840</td>\n",
       "      <td>0.336701</td>\n",
       "      <td>-0.110835</td>\n",
       "      <td>-0.291459</td>\n",
       "      <td>0.207733</td>\n",
       "      <td>-0.076576</td>\n",
       "      <td>-0.059577</td>\n",
       "      <td>0</td>\n",
       "    </tr>\n",
       "    <tr>\n",
       "      <th>1</th>\n",
       "      <td>0.986654</td>\n",
       "      <td>-2.135774</td>\n",
       "      <td>1.998827</td>\n",
       "      <td>-1.250891</td>\n",
       "      <td>-0.520969</td>\n",
       "      <td>-0.894539</td>\n",
       "      <td>-1.122528</td>\n",
       "      <td>-0.270866</td>\n",
       "      <td>-1.029289</td>\n",
       "      <td>0.050198</td>\n",
       "      <td>...</td>\n",
       "      <td>0.065717</td>\n",
       "      <td>0.054848</td>\n",
       "      <td>-0.038367</td>\n",
       "      <td>0.133518</td>\n",
       "      <td>-0.461928</td>\n",
       "      <td>-0.465491</td>\n",
       "      <td>-0.464655</td>\n",
       "      <td>-0.009413</td>\n",
       "      <td>-0.038238</td>\n",
       "      <td>0</td>\n",
       "    </tr>\n",
       "    <tr>\n",
       "      <th>2</th>\n",
       "      <td>-0.305211</td>\n",
       "      <td>-2.135774</td>\n",
       "      <td>0.091535</td>\n",
       "      <td>1.004517</td>\n",
       "      <td>-0.223445</td>\n",
       "      <td>-0.435249</td>\n",
       "      <td>0.667548</td>\n",
       "      <td>-0.988351</td>\n",
       "      <td>0.948146</td>\n",
       "      <td>-0.084789</td>\n",
       "      <td>...</td>\n",
       "      <td>-0.021375</td>\n",
       "      <td>-0.326725</td>\n",
       "      <td>-0.803736</td>\n",
       "      <td>0.154495</td>\n",
       "      <td>0.951233</td>\n",
       "      <td>-0.506919</td>\n",
       "      <td>0.085046</td>\n",
       "      <td>0.224458</td>\n",
       "      <td>0.087356</td>\n",
       "      <td>0</td>\n",
       "    </tr>\n",
       "    <tr>\n",
       "      <th>3</th>\n",
       "      <td>-0.332062</td>\n",
       "      <td>-2.135774</td>\n",
       "      <td>1.979649</td>\n",
       "      <td>-0.184949</td>\n",
       "      <td>-1.064206</td>\n",
       "      <td>0.120125</td>\n",
       "      <td>-0.215238</td>\n",
       "      <td>-0.648829</td>\n",
       "      <td>-0.087826</td>\n",
       "      <td>-0.035367</td>\n",
       "      <td>...</td>\n",
       "      <td>-0.340089</td>\n",
       "      <td>-0.095514</td>\n",
       "      <td>-0.079792</td>\n",
       "      <td>0.167701</td>\n",
       "      <td>-0.042939</td>\n",
       "      <td>0.000799</td>\n",
       "      <td>-0.096148</td>\n",
       "      <td>-0.057780</td>\n",
       "      <td>-0.073839</td>\n",
       "      <td>0</td>\n",
       "    </tr>\n",
       "    <tr>\n",
       "      <th>4</th>\n",
       "      <td>-0.332062</td>\n",
       "      <td>-2.135774</td>\n",
       "      <td>1.025898</td>\n",
       "      <td>-0.171827</td>\n",
       "      <td>1.203717</td>\n",
       "      <td>1.243900</td>\n",
       "      <td>-0.636572</td>\n",
       "      <td>1.099074</td>\n",
       "      <td>-0.938651</td>\n",
       "      <td>0.569239</td>\n",
       "      <td>...</td>\n",
       "      <td>-0.203628</td>\n",
       "      <td>0.099157</td>\n",
       "      <td>0.608908</td>\n",
       "      <td>0.027901</td>\n",
       "      <td>-0.262813</td>\n",
       "      <td>0.257834</td>\n",
       "      <td>-0.252829</td>\n",
       "      <td>0.108338</td>\n",
       "      <td>0.021051</td>\n",
       "      <td>0</td>\n",
       "    </tr>\n",
       "  </tbody>\n",
       "</table>\n",
       "<p>5 rows × 31 columns</p>\n",
       "</div>"
      ],
      "text/plain": [
       "   scaled_amount  scaled_time        V1        V2        V3        V4  \\\n",
       "0      -0.316492    -2.135774  2.074329 -0.129425 -1.137418  0.412846   \n",
       "1       0.986654    -2.135774  1.998827 -1.250891 -0.520969 -0.894539   \n",
       "2      -0.305211    -2.135774  0.091535  1.004517 -0.223445 -0.435249   \n",
       "3      -0.332062    -2.135774  1.979649 -0.184949 -1.064206  0.120125   \n",
       "4      -0.332062    -2.135774  1.025898 -0.171827  1.203717  1.243900   \n",
       "\n",
       "         V5        V6        V7        V8  ...       V20       V21       V22  \\\n",
       "0 -0.192638 -1.210144  0.110697 -0.263477  ... -0.292969 -0.334701 -0.887840   \n",
       "1 -1.122528 -0.270866 -1.029289  0.050198  ...  0.065717  0.054848 -0.038367   \n",
       "2  0.667548 -0.988351  0.948146 -0.084789  ... -0.021375 -0.326725 -0.803736   \n",
       "3 -0.215238 -0.648829 -0.087826 -0.035367  ... -0.340089 -0.095514 -0.079792   \n",
       "4 -0.636572  1.099074 -0.938651  0.569239  ... -0.203628  0.099157  0.608908   \n",
       "\n",
       "        V23       V24       V25       V26       V27       V28  Class  \n",
       "0  0.336701 -0.110835 -0.291459  0.207733 -0.076576 -0.059577      0  \n",
       "1  0.133518 -0.461928 -0.465491 -0.464655 -0.009413 -0.038238      0  \n",
       "2  0.154495  0.951233 -0.506919  0.085046  0.224458  0.087356      0  \n",
       "3  0.167701 -0.042939  0.000799 -0.096148 -0.057780 -0.073839      0  \n",
       "4  0.027901 -0.262813  0.257834 -0.252829  0.108338  0.021051      0  \n",
       "\n",
       "[5 rows x 31 columns]"
      ]
     },
     "execution_count": 20,
     "metadata": {},
     "output_type": "execute_result"
    }
   ],
   "source": [
    "train.head()"
   ]
  },
  {
   "cell_type": "code",
   "execution_count": 21,
   "id": "20c96d55",
   "metadata": {},
   "outputs": [
    {
     "data": {
      "text/plain": [
       "Index(['Time', 'V1', 'V2', 'V3', 'V4', 'V5', 'V6', 'V7', 'V8', 'V9', 'V10',\n",
       "       'V11', 'V12', 'V13', 'V14', 'V15', 'V16', 'V17', 'V18', 'V19', 'V20',\n",
       "       'V21', 'V22', 'V23', 'V24', 'V25', 'V26', 'V27', 'V28', 'Amount',\n",
       "       'Class'],\n",
       "      dtype='object')"
      ]
     },
     "execution_count": 21,
     "metadata": {},
     "output_type": "execute_result"
    }
   ],
   "source": [
    "credit_card.columns"
   ]
  },
  {
   "cell_type": "code",
   "execution_count": 22,
   "id": "aa1af9b9",
   "metadata": {},
   "outputs": [],
   "source": [
    "credit_card['scaled_amount'] = rob_scaler.fit_transform(credit_card['Amount'].values.reshape(-1,1))\n",
    "credit_card['scaled_time'] = rob_scaler.fit_transform(credit_card['Time'].values.reshape(-1,1))\n",
    "\n",
    "credit_card.drop(['Time', 'Amount'], axis=1, inplace=True)\n",
    "\n",
    "scaled_amount = credit_card['scaled_amount']\n",
    "scaled_time = credit_card['scaled_time']\n",
    "\n",
    "credit_card.drop(['scaled_amount', 'scaled_time'], axis=1, inplace=True)\n",
    "credit_card.insert(0, 'scaled_amount', scaled_amount)\n",
    "credit_card.insert(1, 'scaled_time', scaled_time)"
   ]
  },
  {
   "cell_type": "code",
   "execution_count": 23,
   "id": "f0ff9bde",
   "metadata": {},
   "outputs": [
    {
     "data": {
      "text/html": [
       "<div>\n",
       "<style scoped>\n",
       "    .dataframe tbody tr th:only-of-type {\n",
       "        vertical-align: middle;\n",
       "    }\n",
       "\n",
       "    .dataframe tbody tr th {\n",
       "        vertical-align: top;\n",
       "    }\n",
       "\n",
       "    .dataframe thead th {\n",
       "        text-align: right;\n",
       "    }\n",
       "</style>\n",
       "<table border=\"1\" class=\"dataframe\">\n",
       "  <thead>\n",
       "    <tr style=\"text-align: right;\">\n",
       "      <th></th>\n",
       "      <th>scaled_amount</th>\n",
       "      <th>scaled_time</th>\n",
       "      <th>V1</th>\n",
       "      <th>V2</th>\n",
       "      <th>V3</th>\n",
       "      <th>V4</th>\n",
       "      <th>V5</th>\n",
       "      <th>V6</th>\n",
       "      <th>V7</th>\n",
       "      <th>V8</th>\n",
       "      <th>...</th>\n",
       "      <th>V20</th>\n",
       "      <th>V21</th>\n",
       "      <th>V22</th>\n",
       "      <th>V23</th>\n",
       "      <th>V24</th>\n",
       "      <th>V25</th>\n",
       "      <th>V26</th>\n",
       "      <th>V27</th>\n",
       "      <th>V28</th>\n",
       "      <th>Class</th>\n",
       "    </tr>\n",
       "  </thead>\n",
       "  <tbody>\n",
       "    <tr>\n",
       "      <th>0</th>\n",
       "      <td>1.783274</td>\n",
       "      <td>-0.994983</td>\n",
       "      <td>-1.359807</td>\n",
       "      <td>-0.072781</td>\n",
       "      <td>2.536347</td>\n",
       "      <td>1.378155</td>\n",
       "      <td>-0.338321</td>\n",
       "      <td>0.462388</td>\n",
       "      <td>0.239599</td>\n",
       "      <td>0.098698</td>\n",
       "      <td>...</td>\n",
       "      <td>0.251412</td>\n",
       "      <td>-0.018307</td>\n",
       "      <td>0.277838</td>\n",
       "      <td>-0.110474</td>\n",
       "      <td>0.066928</td>\n",
       "      <td>0.128539</td>\n",
       "      <td>-0.189115</td>\n",
       "      <td>0.133558</td>\n",
       "      <td>-0.021053</td>\n",
       "      <td>0</td>\n",
       "    </tr>\n",
       "    <tr>\n",
       "      <th>1</th>\n",
       "      <td>-0.269825</td>\n",
       "      <td>-0.994983</td>\n",
       "      <td>1.191857</td>\n",
       "      <td>0.266151</td>\n",
       "      <td>0.166480</td>\n",
       "      <td>0.448154</td>\n",
       "      <td>0.060018</td>\n",
       "      <td>-0.082361</td>\n",
       "      <td>-0.078803</td>\n",
       "      <td>0.085102</td>\n",
       "      <td>...</td>\n",
       "      <td>-0.069083</td>\n",
       "      <td>-0.225775</td>\n",
       "      <td>-0.638672</td>\n",
       "      <td>0.101288</td>\n",
       "      <td>-0.339846</td>\n",
       "      <td>0.167170</td>\n",
       "      <td>0.125895</td>\n",
       "      <td>-0.008983</td>\n",
       "      <td>0.014724</td>\n",
       "      <td>0</td>\n",
       "    </tr>\n",
       "    <tr>\n",
       "      <th>2</th>\n",
       "      <td>4.983721</td>\n",
       "      <td>-0.994972</td>\n",
       "      <td>-1.358354</td>\n",
       "      <td>-1.340163</td>\n",
       "      <td>1.773209</td>\n",
       "      <td>0.379780</td>\n",
       "      <td>-0.503198</td>\n",
       "      <td>1.800499</td>\n",
       "      <td>0.791461</td>\n",
       "      <td>0.247676</td>\n",
       "      <td>...</td>\n",
       "      <td>0.524980</td>\n",
       "      <td>0.247998</td>\n",
       "      <td>0.771679</td>\n",
       "      <td>0.909412</td>\n",
       "      <td>-0.689281</td>\n",
       "      <td>-0.327642</td>\n",
       "      <td>-0.139097</td>\n",
       "      <td>-0.055353</td>\n",
       "      <td>-0.059752</td>\n",
       "      <td>0</td>\n",
       "    </tr>\n",
       "    <tr>\n",
       "      <th>3</th>\n",
       "      <td>1.418291</td>\n",
       "      <td>-0.994972</td>\n",
       "      <td>-0.966272</td>\n",
       "      <td>-0.185226</td>\n",
       "      <td>1.792993</td>\n",
       "      <td>-0.863291</td>\n",
       "      <td>-0.010309</td>\n",
       "      <td>1.247203</td>\n",
       "      <td>0.237609</td>\n",
       "      <td>0.377436</td>\n",
       "      <td>...</td>\n",
       "      <td>-0.208038</td>\n",
       "      <td>-0.108300</td>\n",
       "      <td>0.005274</td>\n",
       "      <td>-0.190321</td>\n",
       "      <td>-1.175575</td>\n",
       "      <td>0.647376</td>\n",
       "      <td>-0.221929</td>\n",
       "      <td>0.062723</td>\n",
       "      <td>0.061458</td>\n",
       "      <td>0</td>\n",
       "    </tr>\n",
       "    <tr>\n",
       "      <th>4</th>\n",
       "      <td>0.670579</td>\n",
       "      <td>-0.994960</td>\n",
       "      <td>-1.158233</td>\n",
       "      <td>0.877737</td>\n",
       "      <td>1.548718</td>\n",
       "      <td>0.403034</td>\n",
       "      <td>-0.407193</td>\n",
       "      <td>0.095921</td>\n",
       "      <td>0.592941</td>\n",
       "      <td>-0.270533</td>\n",
       "      <td>...</td>\n",
       "      <td>0.408542</td>\n",
       "      <td>-0.009431</td>\n",
       "      <td>0.798278</td>\n",
       "      <td>-0.137458</td>\n",
       "      <td>0.141267</td>\n",
       "      <td>-0.206010</td>\n",
       "      <td>0.502292</td>\n",
       "      <td>0.219422</td>\n",
       "      <td>0.215153</td>\n",
       "      <td>0</td>\n",
       "    </tr>\n",
       "  </tbody>\n",
       "</table>\n",
       "<p>5 rows × 31 columns</p>\n",
       "</div>"
      ],
      "text/plain": [
       "   scaled_amount  scaled_time        V1        V2        V3        V4  \\\n",
       "0       1.783274    -0.994983 -1.359807 -0.072781  2.536347  1.378155   \n",
       "1      -0.269825    -0.994983  1.191857  0.266151  0.166480  0.448154   \n",
       "2       4.983721    -0.994972 -1.358354 -1.340163  1.773209  0.379780   \n",
       "3       1.418291    -0.994972 -0.966272 -0.185226  1.792993 -0.863291   \n",
       "4       0.670579    -0.994960 -1.158233  0.877737  1.548718  0.403034   \n",
       "\n",
       "         V5        V6        V7        V8  ...       V20       V21       V22  \\\n",
       "0 -0.338321  0.462388  0.239599  0.098698  ...  0.251412 -0.018307  0.277838   \n",
       "1  0.060018 -0.082361 -0.078803  0.085102  ... -0.069083 -0.225775 -0.638672   \n",
       "2 -0.503198  1.800499  0.791461  0.247676  ...  0.524980  0.247998  0.771679   \n",
       "3 -0.010309  1.247203  0.237609  0.377436  ... -0.208038 -0.108300  0.005274   \n",
       "4 -0.407193  0.095921  0.592941 -0.270533  ...  0.408542 -0.009431  0.798278   \n",
       "\n",
       "        V23       V24       V25       V26       V27       V28  Class  \n",
       "0 -0.110474  0.066928  0.128539 -0.189115  0.133558 -0.021053      0  \n",
       "1  0.101288 -0.339846  0.167170  0.125895 -0.008983  0.014724      0  \n",
       "2  0.909412 -0.689281 -0.327642 -0.139097 -0.055353 -0.059752      0  \n",
       "3 -0.190321 -1.175575  0.647376 -0.221929  0.062723  0.061458      0  \n",
       "4 -0.137458  0.141267 -0.206010  0.502292  0.219422  0.215153      0  \n",
       "\n",
       "[5 rows x 31 columns]"
      ]
     },
     "execution_count": 23,
     "metadata": {},
     "output_type": "execute_result"
    }
   ],
   "source": [
    "credit_card.head()"
   ]
  },
  {
   "cell_type": "code",
   "execution_count": 24,
   "id": "65013ea9",
   "metadata": {},
   "outputs": [],
   "source": [
    "tst_id = test['id']\n",
    "test['scaled_amount'] = rob_scaler.fit_transform(test['Amount'].values.reshape(-1,1))\n",
    "test['scaled_time'] = rob_scaler.fit_transform(test['Time'].values.reshape(-1,1))\n",
    "\n",
    "test.drop(['Time', 'Amount', 'id'], axis=1, inplace=True)\n",
    "\n",
    "scaled_amount = test['scaled_amount']\n",
    "scaled_time = test['scaled_time']\n",
    "\n",
    "test.drop(['scaled_amount', 'scaled_time'], axis=1, inplace=True)\n",
    "test.insert(0, 'scaled_amount', scaled_amount)\n",
    "test.insert(1, 'scaled_time', scaled_time)"
   ]
  },
  {
   "cell_type": "code",
   "execution_count": 25,
   "id": "d7c658f7",
   "metadata": {},
   "outputs": [
    {
     "data": {
      "text/html": [
       "<div>\n",
       "<style scoped>\n",
       "    .dataframe tbody tr th:only-of-type {\n",
       "        vertical-align: middle;\n",
       "    }\n",
       "\n",
       "    .dataframe tbody tr th {\n",
       "        vertical-align: top;\n",
       "    }\n",
       "\n",
       "    .dataframe thead th {\n",
       "        text-align: right;\n",
       "    }\n",
       "</style>\n",
       "<table border=\"1\" class=\"dataframe\">\n",
       "  <thead>\n",
       "    <tr style=\"text-align: right;\">\n",
       "      <th></th>\n",
       "      <th>scaled_amount</th>\n",
       "      <th>scaled_time</th>\n",
       "      <th>V1</th>\n",
       "      <th>V2</th>\n",
       "      <th>V3</th>\n",
       "      <th>V4</th>\n",
       "      <th>V5</th>\n",
       "      <th>V6</th>\n",
       "      <th>V7</th>\n",
       "      <th>V8</th>\n",
       "      <th>...</th>\n",
       "      <th>V19</th>\n",
       "      <th>V20</th>\n",
       "      <th>V21</th>\n",
       "      <th>V22</th>\n",
       "      <th>V23</th>\n",
       "      <th>V24</th>\n",
       "      <th>V25</th>\n",
       "      <th>V26</th>\n",
       "      <th>V27</th>\n",
       "      <th>V28</th>\n",
       "    </tr>\n",
       "  </thead>\n",
       "  <tbody>\n",
       "    <tr>\n",
       "      <th>0</th>\n",
       "      <td>0.135977</td>\n",
       "      <td>-1.020092</td>\n",
       "      <td>2.115519</td>\n",
       "      <td>-0.691809</td>\n",
       "      <td>-1.305514</td>\n",
       "      <td>-0.685655</td>\n",
       "      <td>-0.641265</td>\n",
       "      <td>-0.764784</td>\n",
       "      <td>-0.924262</td>\n",
       "      <td>-0.023030</td>\n",
       "      <td>...</td>\n",
       "      <td>0.579121</td>\n",
       "      <td>0.067367</td>\n",
       "      <td>0.241708</td>\n",
       "      <td>0.682524</td>\n",
       "      <td>0.037769</td>\n",
       "      <td>-0.546859</td>\n",
       "      <td>-0.123055</td>\n",
       "      <td>-0.084889</td>\n",
       "      <td>0.004720</td>\n",
       "      <td>-0.021944</td>\n",
       "    </tr>\n",
       "    <tr>\n",
       "      <th>1</th>\n",
       "      <td>2.361440</td>\n",
       "      <td>-1.020092</td>\n",
       "      <td>1.743525</td>\n",
       "      <td>-1.681429</td>\n",
       "      <td>-0.547387</td>\n",
       "      <td>-1.061113</td>\n",
       "      <td>-0.695825</td>\n",
       "      <td>2.458824</td>\n",
       "      <td>-1.632859</td>\n",
       "      <td>1.073529</td>\n",
       "      <td>...</td>\n",
       "      <td>-0.066264</td>\n",
       "      <td>0.441788</td>\n",
       "      <td>0.543278</td>\n",
       "      <td>1.294571</td>\n",
       "      <td>0.309541</td>\n",
       "      <td>3.703925</td>\n",
       "      <td>-0.242579</td>\n",
       "      <td>0.068708</td>\n",
       "      <td>0.002629</td>\n",
       "      <td>0.064690</td>\n",
       "    </tr>\n",
       "    <tr>\n",
       "      <th>2</th>\n",
       "      <td>-0.096484</td>\n",
       "      <td>-1.020092</td>\n",
       "      <td>2.205568</td>\n",
       "      <td>-1.571445</td>\n",
       "      <td>-0.238965</td>\n",
       "      <td>-1.662517</td>\n",
       "      <td>-1.652324</td>\n",
       "      <td>-0.054701</td>\n",
       "      <td>-1.682064</td>\n",
       "      <td>0.105613</td>\n",
       "      <td>...</td>\n",
       "      <td>0.010671</td>\n",
       "      <td>-0.366906</td>\n",
       "      <td>-0.131527</td>\n",
       "      <td>0.086623</td>\n",
       "      <td>0.291375</td>\n",
       "      <td>0.739087</td>\n",
       "      <td>-0.543006</td>\n",
       "      <td>-0.297813</td>\n",
       "      <td>0.043699</td>\n",
       "      <td>-0.037855</td>\n",
       "    </tr>\n",
       "    <tr>\n",
       "      <th>3</th>\n",
       "      <td>1.652891</td>\n",
       "      <td>-1.020092</td>\n",
       "      <td>1.989728</td>\n",
       "      <td>-0.972909</td>\n",
       "      <td>-1.938259</td>\n",
       "      <td>-1.440129</td>\n",
       "      <td>-0.166855</td>\n",
       "      <td>-0.794048</td>\n",
       "      <td>0.252889</td>\n",
       "      <td>-0.399789</td>\n",
       "      <td>...</td>\n",
       "      <td>1.207085</td>\n",
       "      <td>-0.049136</td>\n",
       "      <td>-0.080115</td>\n",
       "      <td>-0.010732</td>\n",
       "      <td>-0.038550</td>\n",
       "      <td>0.656830</td>\n",
       "      <td>0.343470</td>\n",
       "      <td>-0.627529</td>\n",
       "      <td>-0.024338</td>\n",
       "      <td>-0.036143</td>\n",
       "    </tr>\n",
       "    <tr>\n",
       "      <th>4</th>\n",
       "      <td>-0.330112</td>\n",
       "      <td>-1.020092</td>\n",
       "      <td>-1.943548</td>\n",
       "      <td>-1.668761</td>\n",
       "      <td>0.363601</td>\n",
       "      <td>-0.977610</td>\n",
       "      <td>2.684779</td>\n",
       "      <td>-2.037681</td>\n",
       "      <td>0.039709</td>\n",
       "      <td>-0.048895</td>\n",
       "      <td>...</td>\n",
       "      <td>-0.267098</td>\n",
       "      <td>0.391627</td>\n",
       "      <td>0.083389</td>\n",
       "      <td>-0.306918</td>\n",
       "      <td>0.247822</td>\n",
       "      <td>-0.391799</td>\n",
       "      <td>-0.790716</td>\n",
       "      <td>-0.025706</td>\n",
       "      <td>0.330758</td>\n",
       "      <td>0.335537</td>\n",
       "    </tr>\n",
       "  </tbody>\n",
       "</table>\n",
       "<p>5 rows × 30 columns</p>\n",
       "</div>"
      ],
      "text/plain": [
       "   scaled_amount  scaled_time        V1        V2        V3        V4  \\\n",
       "0       0.135977    -1.020092  2.115519 -0.691809 -1.305514 -0.685655   \n",
       "1       2.361440    -1.020092  1.743525 -1.681429 -0.547387 -1.061113   \n",
       "2      -0.096484    -1.020092  2.205568 -1.571445 -0.238965 -1.662517   \n",
       "3       1.652891    -1.020092  1.989728 -0.972909 -1.938259 -1.440129   \n",
       "4      -0.330112    -1.020092 -1.943548 -1.668761  0.363601 -0.977610   \n",
       "\n",
       "         V5        V6        V7        V8  ...       V19       V20       V21  \\\n",
       "0 -0.641265 -0.764784 -0.924262 -0.023030  ...  0.579121  0.067367  0.241708   \n",
       "1 -0.695825  2.458824 -1.632859  1.073529  ... -0.066264  0.441788  0.543278   \n",
       "2 -1.652324 -0.054701 -1.682064  0.105613  ...  0.010671 -0.366906 -0.131527   \n",
       "3 -0.166855 -0.794048  0.252889 -0.399789  ...  1.207085 -0.049136 -0.080115   \n",
       "4  2.684779 -2.037681  0.039709 -0.048895  ... -0.267098  0.391627  0.083389   \n",
       "\n",
       "        V22       V23       V24       V25       V26       V27       V28  \n",
       "0  0.682524  0.037769 -0.546859 -0.123055 -0.084889  0.004720 -0.021944  \n",
       "1  1.294571  0.309541  3.703925 -0.242579  0.068708  0.002629  0.064690  \n",
       "2  0.086623  0.291375  0.739087 -0.543006 -0.297813  0.043699 -0.037855  \n",
       "3 -0.010732 -0.038550  0.656830  0.343470 -0.627529 -0.024338 -0.036143  \n",
       "4 -0.306918  0.247822 -0.391799 -0.790716 -0.025706  0.330758  0.335537  \n",
       "\n",
       "[5 rows x 30 columns]"
      ]
     },
     "execution_count": 25,
     "metadata": {},
     "output_type": "execute_result"
    }
   ],
   "source": [
    "test.head()"
   ]
  },
  {
   "cell_type": "markdown",
   "id": "66890355",
   "metadata": {},
   "source": [
    "### Random Under-Sampling"
   ]
  },
  {
   "cell_type": "markdown",
   "id": "0a7621fb",
   "metadata": {},
   "source": [
    "Here, we will implement __Random Under Sampling__ which basically consists in creating an equal amount of __Normal__ and __Fraudulent__ cases in the datasets, and removing the excess data cases, in order to have a more balanced dataset and avoid __overfitting__.\n",
    "\n",
    "__Steps:__\n",
    "- Bring the __Normal__ transaction datasets to the same amount as __Fraudulent__ transaction sets, this will be equivalent to __(469 + 492)__ cases of normal transactions from both datasets, making a total number of __1922__ cases in the sub-sampled dataset\n",
    "- After sub-sampling the dataset, we will __reshuffle the dataset__ to see if our models can maintain a certain measure of the performance metric we use, whenver we run our code."
   ]
  },
  {
   "cell_type": "code",
   "execution_count": 26,
   "id": "e609911e",
   "metadata": {},
   "outputs": [],
   "source": [
    "X = train.iloc[:, train.columns != 'Class']\n",
    "y = train.iloc[:, train.columns == 'Class']"
   ]
  },
  {
   "cell_type": "code",
   "execution_count": 27,
   "id": "f61d6a39",
   "metadata": {},
   "outputs": [],
   "source": [
    "no_record_fraud = len(train[train['Class'] == 1])\n",
    "\n",
    "fraud_indices = np.array(train[train['Class'] == 1].index)\n",
    "normal_indices = train[train['Class'] == 0].index\n",
    "random_normal_indices = np.random.choice(normal_indices, no_record_fraud, replace=False)\n",
    "random_normal_indices = np.array(random_normal_indices)\n",
    "\n",
    "under_sample_indices = np.concatenate([random_normal_indices, fraud_indices])\n",
    "\n",
    "under_sample_data = train.iloc[under_sample_indices,:]"
   ]
  },
  {
   "cell_type": "code",
   "execution_count": 29,
   "id": "d134d5f6",
   "metadata": {},
   "outputs": [],
   "source": [
    "no_record_credit_fraud = len(credit_card[credit_card['Class'] == 1])\n",
    "\n",
    "fraud_credit_indices = np.array(credit_card[credit_card['Class'] == 1].index)\n",
    "normal_credit_indices = credit_card[credit_card['Class'] == 0].index\n",
    "random_normal_credit_indices = np.random.choice(normal_credit_indices, no_record_credit_fraud, replace=False)\n",
    "random_normal_credit_indices = np.array(random_normal_credit_indices)\n",
    "\n",
    "undersample_credit_indices = np.concatenate([random_normal_credit_indices, fraud_credit_indices])\n",
    "\n",
    "undersample_credit_data = credit_card.iloc[undersample_credit_indices,:]"
   ]
  },
  {
   "cell_type": "code",
   "execution_count": 30,
   "id": "7e2cec55",
   "metadata": {},
   "outputs": [
    {
     "data": {
      "text/plain": [
       "(938, 984)"
      ]
     },
     "execution_count": 30,
     "metadata": {},
     "output_type": "execute_result"
    }
   ],
   "source": [
    "len(under_sample_data), len(undersample_credit_data)"
   ]
  },
  {
   "cell_type": "code",
   "execution_count": 31,
   "id": "fc56eb6b",
   "metadata": {},
   "outputs": [],
   "source": [
    "frames = [under_sample_data, undersample_credit_data]"
   ]
  },
  {
   "cell_type": "code",
   "execution_count": 33,
   "id": "7de7ae06",
   "metadata": {},
   "outputs": [],
   "source": [
    "under_sample_data = pd.concat(frames)"
   ]
  },
  {
   "cell_type": "code",
   "execution_count": 34,
   "id": "3181005e",
   "metadata": {},
   "outputs": [],
   "source": [
    "X_undersample = under_sample_data.iloc[:, under_sample_data.columns != 'Class']\n",
    "y_undersample = under_sample_data.iloc[:, under_sample_data.columns == 'Class']"
   ]
  },
  {
   "cell_type": "code",
   "execution_count": 35,
   "id": "d16135f7",
   "metadata": {},
   "outputs": [
    {
     "name": "stdout",
     "output_type": "stream",
     "text": [
      "Percentage of normal transactions:  0.5\n",
      "Percentage of fraud transactions:  0.5\n",
      "Total number of transactions in resampled data:  1922\n"
     ]
    }
   ],
   "source": [
    "# Showing ratio\n",
    "from __future__ import division\n",
    "print(\"Percentage of normal transactions: \", len(under_sample_data[under_sample_data.Class == 0])/len(under_sample_data))\n",
    "print(\"Percentage of fraud transactions: \", len(under_sample_data[under_sample_data.Class == 1])/len(under_sample_data))\n",
    "print(\"Total number of transactions in resampled data: \", len(under_sample_data))"
   ]
  },
  {
   "cell_type": "code",
   "execution_count": 36,
   "id": "527e8072",
   "metadata": {},
   "outputs": [
    {
     "data": {
      "text/plain": [
       "0    961\n",
       "1    961\n",
       "Name: Class, dtype: int64"
      ]
     },
     "execution_count": 36,
     "metadata": {},
     "output_type": "execute_result"
    }
   ],
   "source": [
    "under_sample_data['Class'].value_counts()"
   ]
  },
  {
   "cell_type": "code",
   "execution_count": 37,
   "id": "db24e0a3",
   "metadata": {},
   "outputs": [],
   "source": [
    "under_sample_data = under_sample_data.sample(frac=1)"
   ]
  },
  {
   "cell_type": "code",
   "execution_count": 38,
   "id": "d29e3a87",
   "metadata": {},
   "outputs": [
    {
     "data": {
      "text/html": [
       "<div>\n",
       "<style scoped>\n",
       "    .dataframe tbody tr th:only-of-type {\n",
       "        vertical-align: middle;\n",
       "    }\n",
       "\n",
       "    .dataframe tbody tr th {\n",
       "        vertical-align: top;\n",
       "    }\n",
       "\n",
       "    .dataframe thead th {\n",
       "        text-align: right;\n",
       "    }\n",
       "</style>\n",
       "<table border=\"1\" class=\"dataframe\">\n",
       "  <thead>\n",
       "    <tr style=\"text-align: right;\">\n",
       "      <th></th>\n",
       "      <th>scaled_amount</th>\n",
       "      <th>scaled_time</th>\n",
       "      <th>V1</th>\n",
       "      <th>V2</th>\n",
       "      <th>V3</th>\n",
       "      <th>V4</th>\n",
       "      <th>V5</th>\n",
       "      <th>V6</th>\n",
       "      <th>V7</th>\n",
       "      <th>V8</th>\n",
       "      <th>...</th>\n",
       "      <th>V20</th>\n",
       "      <th>V21</th>\n",
       "      <th>V22</th>\n",
       "      <th>V23</th>\n",
       "      <th>V24</th>\n",
       "      <th>V25</th>\n",
       "      <th>V26</th>\n",
       "      <th>V27</th>\n",
       "      <th>V28</th>\n",
       "      <th>Class</th>\n",
       "    </tr>\n",
       "  </thead>\n",
       "  <tbody>\n",
       "    <tr>\n",
       "      <th>56284</th>\n",
       "      <td>0.563823</td>\n",
       "      <td>-0.438692</td>\n",
       "      <td>1.191825</td>\n",
       "      <td>-0.148564</td>\n",
       "      <td>-0.367695</td>\n",
       "      <td>-0.033686</td>\n",
       "      <td>-0.196954</td>\n",
       "      <td>-0.866655</td>\n",
       "      <td>0.246898</td>\n",
       "      <td>-0.147495</td>\n",
       "      <td>...</td>\n",
       "      <td>-0.028294</td>\n",
       "      <td>0.046700</td>\n",
       "      <td>-0.052349</td>\n",
       "      <td>-0.195708</td>\n",
       "      <td>0.066159</td>\n",
       "      <td>0.519850</td>\n",
       "      <td>1.117536</td>\n",
       "      <td>-0.133478</td>\n",
       "      <td>-0.015483</td>\n",
       "      <td>0</td>\n",
       "    </tr>\n",
       "    <tr>\n",
       "      <th>91669</th>\n",
       "      <td>-0.332062</td>\n",
       "      <td>-0.158960</td>\n",
       "      <td>-0.547002</td>\n",
       "      <td>1.536908</td>\n",
       "      <td>-0.008971</td>\n",
       "      <td>1.099760</td>\n",
       "      <td>1.163819</td>\n",
       "      <td>-0.764134</td>\n",
       "      <td>1.079651</td>\n",
       "      <td>-0.291460</td>\n",
       "      <td>...</td>\n",
       "      <td>0.141547</td>\n",
       "      <td>0.031196</td>\n",
       "      <td>0.084533</td>\n",
       "      <td>-0.059995</td>\n",
       "      <td>-0.191469</td>\n",
       "      <td>-0.392627</td>\n",
       "      <td>-0.282715</td>\n",
       "      <td>0.065284</td>\n",
       "      <td>0.271826</td>\n",
       "      <td>1</td>\n",
       "    </tr>\n",
       "    <tr>\n",
       "      <th>219168</th>\n",
       "      <td>0.670020</td>\n",
       "      <td>0.668899</td>\n",
       "      <td>1.873126</td>\n",
       "      <td>-0.653135</td>\n",
       "      <td>-0.628761</td>\n",
       "      <td>0.003430</td>\n",
       "      <td>-0.569327</td>\n",
       "      <td>-0.276042</td>\n",
       "      <td>-0.493417</td>\n",
       "      <td>0.083002</td>\n",
       "      <td>...</td>\n",
       "      <td>-0.112420</td>\n",
       "      <td>-0.191218</td>\n",
       "      <td>-0.630455</td>\n",
       "      <td>0.292076</td>\n",
       "      <td>-0.545274</td>\n",
       "      <td>-0.529712</td>\n",
       "      <td>-0.318852</td>\n",
       "      <td>-0.017213</td>\n",
       "      <td>-0.042684</td>\n",
       "      <td>0</td>\n",
       "    </tr>\n",
       "    <tr>\n",
       "      <th>39423</th>\n",
       "      <td>1.602320</td>\n",
       "      <td>-0.527039</td>\n",
       "      <td>-0.702846</td>\n",
       "      <td>0.451283</td>\n",
       "      <td>-0.028331</td>\n",
       "      <td>-2.290591</td>\n",
       "      <td>-0.184045</td>\n",
       "      <td>-0.412803</td>\n",
       "      <td>0.877250</td>\n",
       "      <td>0.325738</td>\n",
       "      <td>...</td>\n",
       "      <td>0.172521</td>\n",
       "      <td>-0.261997</td>\n",
       "      <td>-1.147381</td>\n",
       "      <td>0.342869</td>\n",
       "      <td>-0.888737</td>\n",
       "      <td>-0.487543</td>\n",
       "      <td>-0.486005</td>\n",
       "      <td>-0.047742</td>\n",
       "      <td>0.083333</td>\n",
       "      <td>0</td>\n",
       "    </tr>\n",
       "    <tr>\n",
       "      <th>180337</th>\n",
       "      <td>-0.139873</td>\n",
       "      <td>0.467628</td>\n",
       "      <td>-1.559991</td>\n",
       "      <td>1.312366</td>\n",
       "      <td>-0.565189</td>\n",
       "      <td>-0.881588</td>\n",
       "      <td>1.056859</td>\n",
       "      <td>-0.366838</td>\n",
       "      <td>0.527935</td>\n",
       "      <td>0.451948</td>\n",
       "      <td>...</td>\n",
       "      <td>-0.010177</td>\n",
       "      <td>-0.307171</td>\n",
       "      <td>-0.941998</td>\n",
       "      <td>-0.267165</td>\n",
       "      <td>0.100712</td>\n",
       "      <td>-0.085909</td>\n",
       "      <td>0.169737</td>\n",
       "      <td>0.068059</td>\n",
       "      <td>0.137537</td>\n",
       "      <td>0</td>\n",
       "    </tr>\n",
       "  </tbody>\n",
       "</table>\n",
       "<p>5 rows × 31 columns</p>\n",
       "</div>"
      ],
      "text/plain": [
       "        scaled_amount  scaled_time        V1        V2        V3        V4  \\\n",
       "56284        0.563823    -0.438692  1.191825 -0.148564 -0.367695 -0.033686   \n",
       "91669       -0.332062    -0.158960 -0.547002  1.536908 -0.008971  1.099760   \n",
       "219168       0.670020     0.668899  1.873126 -0.653135 -0.628761  0.003430   \n",
       "39423        1.602320    -0.527039 -0.702846  0.451283 -0.028331 -2.290591   \n",
       "180337      -0.139873     0.467628 -1.559991  1.312366 -0.565189 -0.881588   \n",
       "\n",
       "              V5        V6        V7        V8  ...       V20       V21  \\\n",
       "56284  -0.196954 -0.866655  0.246898 -0.147495  ... -0.028294  0.046700   \n",
       "91669   1.163819 -0.764134  1.079651 -0.291460  ...  0.141547  0.031196   \n",
       "219168 -0.569327 -0.276042 -0.493417  0.083002  ... -0.112420 -0.191218   \n",
       "39423  -0.184045 -0.412803  0.877250  0.325738  ...  0.172521 -0.261997   \n",
       "180337  1.056859 -0.366838  0.527935  0.451948  ... -0.010177 -0.307171   \n",
       "\n",
       "             V22       V23       V24       V25       V26       V27       V28  \\\n",
       "56284  -0.052349 -0.195708  0.066159  0.519850  1.117536 -0.133478 -0.015483   \n",
       "91669   0.084533 -0.059995 -0.191469 -0.392627 -0.282715  0.065284  0.271826   \n",
       "219168 -0.630455  0.292076 -0.545274 -0.529712 -0.318852 -0.017213 -0.042684   \n",
       "39423  -1.147381  0.342869 -0.888737 -0.487543 -0.486005 -0.047742  0.083333   \n",
       "180337 -0.941998 -0.267165  0.100712 -0.085909  0.169737  0.068059  0.137537   \n",
       "\n",
       "        Class  \n",
       "56284       0  \n",
       "91669       1  \n",
       "219168      0  \n",
       "39423       0  \n",
       "180337      0  \n",
       "\n",
       "[5 rows x 31 columns]"
      ]
     },
     "execution_count": 38,
     "metadata": {},
     "output_type": "execute_result"
    }
   ],
   "source": [
    "under_sample_data.head()"
   ]
  },
  {
   "cell_type": "markdown",
   "id": "58c1d083",
   "metadata": {},
   "source": [
    "### Classifiers (Under Sampling):\n",
    "\n",
    "In this section, we will run two types of classifiers and decide which classifier will be more effective in detecting __fraudulent transactions__. But before that, we have to split our dataset into training and testing sets and separate the features from the labels."
   ]
  },
  {
   "cell_type": "code",
   "execution_count": 40,
   "id": "47071aa6",
   "metadata": {},
   "outputs": [
    {
     "name": "stdout",
     "output_type": "stream",
     "text": [
      "\n",
      "Number of transactions for train dataset:  1345\n",
      "Number of transactions for test dataset:  577\n",
      "Total number of transactions:  1922\n"
     ]
    }
   ],
   "source": [
    "from sklearn.model_selection import train_test_split\n",
    "\n",
    "X_train_undersample, X_test_undersample, y_train_undersample, y_test_undersample = train_test_split(X_undersample,y_undersample, test_size=0.3, random_state = 0)\n",
    "\n",
    "print(\"\")\n",
    "print(\"Number of transactions for train dataset: \", len(X_train_undersample))\n",
    "print(\"Number of transactions for test dataset: \", len(X_test_undersample))\n",
    "print(\"Total number of transactions: \", len(X_train_undersample) + len(X_test_undersample))"
   ]
  },
  {
   "cell_type": "code",
   "execution_count": 39,
   "id": "ff65ac9b",
   "metadata": {},
   "outputs": [],
   "source": [
    "from sklearn.linear_model import LogisticRegression\n",
    "from sklearn.model_selection import KFold, cross_val_score\n",
    "from sklearn.metrics import confusion_matrix, precision_recall_curve, auc, roc_auc_score, roc_curve, recall_score, classification_report"
   ]
  },
  {
   "cell_type": "code",
   "execution_count": 102,
   "id": "bba08882",
   "metadata": {},
   "outputs": [
    {
     "name": "stderr",
     "output_type": "stream",
     "text": [
      "C:\\Users\\DELL\\anaconda33\\lib\\site-packages\\sklearn\\base.py:420: UserWarning: X does not have valid feature names, but LogisticRegression was fitted with feature names\n",
      "  warnings.warn(\n",
      "C:\\Users\\DELL\\anaconda33\\lib\\site-packages\\sklearn\\base.py:420: UserWarning: X does not have valid feature names, but LogisticRegression was fitted with feature names\n",
      "  warnings.warn(\n"
     ]
    },
    {
     "data": {
      "text/plain": [
       "0.8781422734919491"
      ]
     },
     "execution_count": 102,
     "metadata": {},
     "output_type": "execute_result"
    }
   ],
   "source": [
    "lr = LogisticRegression(solver='liblinear', C = 0.1, random_state=0, penalty='l1')\n",
    "y_pred_undersample_score= lr.fit(X_train_undersample,y_train_undersample.values.ravel()).decision_function(X_test_undersample.values)\n",
    "y_pred_undersample_lr = lr.fit(X_train_undersample,y_train_undersample.values.ravel()).predict(X_test_undersample.values)\n",
    "fpr_lr, tpr_lr, thresholds = roc_curve(y_test_undersample.values.ravel(),y_pred_undersample_score)\n",
    "roc_auc = auc(fpr_lr,tpr_lr)\n",
    "roc_auc_score(y_test_undersample, lr.predict_proba(X_test_undersample)[:,1])"
   ]
  },
  {
   "cell_type": "code",
   "execution_count": null,
   "id": "2ab3040a",
   "metadata": {},
   "outputs": [],
   "source": []
  },
  {
   "cell_type": "code",
   "execution_count": 103,
   "id": "c42c03b0",
   "metadata": {},
   "outputs": [
    {
     "name": "stderr",
     "output_type": "stream",
     "text": [
      "C:\\Users\\DELL\\anaconda33\\lib\\site-packages\\sklearn\\base.py:420: UserWarning: X does not have valid feature names, but RandomForestClassifier was fitted with feature names\n",
      "  warnings.warn(\n",
      "C:\\Users\\DELL\\anaconda33\\lib\\site-packages\\sklearn\\base.py:420: UserWarning: X does not have valid feature names, but RandomForestClassifier was fitted with feature names\n",
      "  warnings.warn(\n"
     ]
    },
    {
     "data": {
      "text/plain": [
       "0.9035928863254025"
      ]
     },
     "execution_count": 103,
     "metadata": {},
     "output_type": "execute_result"
    }
   ],
   "source": [
    "from sklearn.ensemble import RandomForestClassifier\n",
    "from sklearn.metrics import mean_absolute_error\n",
    "\n",
    "rf = RandomForestClassifier(500, min_samples_leaf=5, min_samples_split=7)\n",
    "y_pred_undersample_proba_rf= rf.fit(X_train_undersample,y_train_undersample.values.ravel()).predict_proba(X_test_undersample.values)\n",
    "y_pred_undersample_rf = rf.fit(X_train_undersample,y_train_undersample.values.ravel()).predict(X_test_undersample.values)\n",
    "fpr_rf, tpr_rf, thresholds = roc_curve(y_test_undersample.values.ravel(),y_pred_undersample_proba_rf[:,1])\n",
    "roc_auc = auc(fpr_rf,tpr_rf)\n",
    "roc_auc_score(y_test_undersample, rf.predict_proba(X_test_undersample)[:,1])\n"
   ]
  },
  {
   "cell_type": "code",
   "execution_count": null,
   "id": "df53df3d",
   "metadata": {},
   "outputs": [],
   "source": []
  },
  {
   "cell_type": "code",
   "execution_count": 104,
   "id": "e3836f06",
   "metadata": {},
   "outputs": [
    {
     "data": {
      "image/png": "[encoded data removed]",
      "text/plain": [
       "<Figure size 1600x800 with 1 Axes>"
      ]
     },
     "metadata": {},
     "output_type": "display_data"
    }
   ],
   "source": [
    "plt.figure(figsize=(16,8))\n",
    "plt.title('ROC Curve \\n Top 2 Classifiers', fontsize=18)\n",
    "plt.plot(fpr_lr, tpr_lr, label='Logistic Regression Classifier Score: {:.4f}'.format(roc_auc_score(y_test_undersample, y_pred_undersample_lr)))\n",
    "plt.plot(fpr_rf, tpr_rf, label='Random Forest Classifier Score: {:.4f}'.format(roc_auc_score(y_test_undersample, y_pred_undersample_rf)))\n",
    "plt.plot([0, 1], [0, 1], 'k--')\n",
    "plt.axis([-0.01, 1, 0, 1])\n",
    "plt.xlabel('False Positive Rate', fontsize=16)\n",
    "plt.ylabel('True Positive Rate', fontsize=16)\n",
    "plt.annotate('Minimum ROC Score of 50% \\n (This is the minimum score to get)', xy=(0.5, 0.5), xytext=(0.6, 0.3),\n",
    "             arrowprops=dict(facecolor='#6E726D', shrink=0.05),\n",
    "            )\n",
    "plt.legend()\n",
    "plt.show()"
   ]
  },
  {
   "cell_type": "markdown",
   "id": "98a515fe",
   "metadata": {},
   "source": [
    "## Summary\n",
    "\n",
    "- __Random Forest Classifier__ is a better model among the two models, with a high ROC score of __0.9035__, much better than the __Logistic Regression Classifier__ with ROC score of __0.878__\n",
    "- __Random Forest Classifier__ shows the best score in both training and testing sets.\n",
    "- _Random Forests_ are the easies to train, because they are extremely resilient to hyperparameter choices and require very little preprocessing. They are very fast to train, and should not overfit if you have enough trees. "
   ]
  },
  {
   "cell_type": "code",
   "execution_count": 105,
   "id": "27b0b723",
   "metadata": {},
   "outputs": [
    {
     "name": "stderr",
     "output_type": "stream",
     "text": [
      "C:\\Users\\DELL\\anaconda33\\lib\\site-packages\\sklearn\\base.py:420: UserWarning: X does not have valid feature names, but RandomForestClassifier was fitted with feature names\n",
      "  warnings.warn(\n",
      "C:\\Users\\DELL\\anaconda33\\lib\\site-packages\\sklearn\\base.py:420: UserWarning: X does not have valid feature names, but RandomForestClassifier was fitted with feature names\n",
      "  warnings.warn(\n"
     ]
    }
   ],
   "source": [
    "y_preds = rf.predict_proba(test.values)\n",
    "y_class = rf.predict(test.values)"
   ]
  },
  {
   "cell_type": "code",
   "execution_count": 106,
   "id": "1c5183d5",
   "metadata": {},
   "outputs": [],
   "source": [
    "pred_series = np.array([int(x) for x in (y_preds[:,1]>0.5)])"
   ]
  },
  {
   "cell_type": "code",
   "execution_count": 58,
   "id": "b387b6c2",
   "metadata": {},
   "outputs": [],
   "source": [
    "submit = pd.DataFrame({\"id\": np.array(tst_id), \"Class\": y_class}, columns=[\"id\",\"Class\"])"
   ]
  },
  {
   "cell_type": "code",
   "execution_count": 60,
   "id": "4c57960c",
   "metadata": {},
   "outputs": [],
   "source": [
    "submit.to_csv(\"submission_five.csv\", index=False)"
   ]
  },
  {
   "cell_type": "code",
   "execution_count": null,
   "id": "8fe51f04",
   "metadata": {},
   "outputs": [],
   "source": []
  }
 ],
 "metadata": {
  "kernelspec": {
   "display_name": "Python 3 (ipykernel)",
   "language": "python",
   "name": "python3"
  },
  "language_info": {
   "codemirror_mode": {
    "name": "ipython",
    "version": 3
   },
   "file_extension": ".py",
   "mimetype": "text/x-python",
   "name": "python",
   "nbconvert_exporter": "python",
   "pygments_lexer": "ipython3",
   "version": "3.10.9"
  }
 },
 "nbformat": 4,
 "nbformat_minor": 5
}
